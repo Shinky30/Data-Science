{
 "cells": [
  {
   "cell_type": "markdown",
   "id": "42c70d7b-5063-416c-825f-9ceefb970704",
   "metadata": {},
   "source": [
    "Python is a programming language"
   ]
  },
  {
   "cell_type": "code",
   "execution_count": 3,
   "id": "4cd7065b-6c76-4f20-a6b7-f14b3e322876",
   "metadata": {},
   "outputs": [
    {
     "name": "stdout",
     "output_type": "stream",
     "text": [
      "Hello World\n"
     ]
    }
   ],
   "source": [
    "print (\"Hello World\")"
   ]
  },
  {
   "cell_type": "code",
   "execution_count": 4,
   "id": "82504fd9-8de4-4fa1-bab7-d7c6615ea291",
   "metadata": {},
   "outputs": [
    {
     "name": "stdout",
     "output_type": "stream",
     "text": [
      "Abha Malviya\n"
     ]
    }
   ],
   "source": [
    "print (\"Abha Malviya\")\n"
   ]
  },
  {
   "cell_type": "code",
   "execution_count": 1,
   "id": "c1efe4ee-1ab7-41e8-a263-e491c62cfd35",
   "metadata": {},
   "outputs": [
    {
     "data": {
      "text/plain": [
       "50"
      ]
     },
     "execution_count": 1,
     "metadata": {},
     "output_type": "execute_result"
    }
   ],
   "source": [
    "24+26"
   ]
  },
  {
   "cell_type": "code",
   "execution_count": null,
   "id": "4e238c14-b7d9-4a4d-8515-68e7ed94bb2f",
   "metadata": {},
   "outputs": [],
   "source": []
  }
 ],
 "metadata": {
  "kernelspec": {
   "display_name": "Python 3 (ipykernel)",
   "language": "python",
   "name": "python3"
  },
  "language_info": {
   "codemirror_mode": {
    "name": "ipython",
    "version": 3
   },
   "file_extension": ".py",
   "mimetype": "text/x-python",
   "name": "python",
   "nbconvert_exporter": "python",
   "pygments_lexer": "ipython3",
   "version": "3.12.4"
  }
 },
 "nbformat": 4,
 "nbformat_minor": 5
}
